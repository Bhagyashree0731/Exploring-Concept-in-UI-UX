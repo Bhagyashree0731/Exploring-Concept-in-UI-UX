{
  "nbformat": 4,
  "nbformat_minor": 0,
  "metadata": {
    "colab": {
      "provenance": []
    },
    "kernelspec": {
      "name": "python3",
      "display_name": "Python 3"
    },
    "language_info": {
      "name": "python"
    }
  },
  "cells": [
    {
      "cell_type": "markdown",
      "source": [
        "[link text](https://)# Assignment 1"
      ],
      "metadata": {
        "id": "r36FKNLtkUzL"
      }
    },
    {
      "cell_type": "markdown",
      "source": [
        "1. What is the significance of user-centered design in UI/UX?\n",
        "   - User-centered desisn in UI\\UX is its an approach that focuses on designing the product according to the user need, preference and limitations.The main motive is to design a product that will be easy, efficient and enjoyable for the targeted audience.\n",
        "   -The significance of user centered design depends on the ability to solve or improve usert satisfaction and make the product usable by focusing on whast the user needs, making the design easy to use for the user improving user satisfaction. This leads to reducing mistake and saving time, building trust of the user in your product and helping in better business sucess.\n",
        "   -Example - Let's assume I am thinking to create an E-commerce application, If I'll use user centric design then I will follow these following steps:\n",
        "\n",
        "      i)Ask the users to try the app and let me know the exact problem they're facing wile using that app.\n",
        "\n",
        "      ii)let's say the users said that the search bar is small so we're having problem to find it in the first place or the cart is not showing easily.\n",
        "\n",
        "      iii)Then I'll re-design the app and make changes accordingly like will make the search bar big enough so that it'll be easily visible, put the \"add to cart\" button in such a place where the user can easily access it.\n",
        "\n",
        "      iv)Then I'll re test that app by some of the users to know by making all these changes whether they're enjoying using that app or not.\n",
        "\n",
        "      By doing all these steps the app will be easy to use, and the app will able to satisfy the customer.       "
      ],
      "metadata": {
        "id": "qpHm2MiPlXIy"
      }
    },
    {
      "cell_type": "markdown",
      "source": [
        " 2. How do wireframes contribute to the UI/UX design process?\n",
        "     - Wireframe is a simple format which shows the basic structure of any app or website. It is basically a sketch of any design in which there are only outlines of buttons, menues, images, and text boxes but no images or facny design in it.\n",
        "     - Role of wireframe in UI/UX design are :-\n",
        "\n",
        "      - It provides planning of how the app or website will work and gives clarity of what will be on the screen and where the user will click to go forward in using that app or website.\n",
        "\n",
        "      - Wireframe provides a clear idea that how the app will be looking so that will be easy for the designer to provide and understanding to both, the client and the team members.\n",
        "\n",
        "      - Saves time and money by noticing if there is any problem in the stage of wireframing. It helps in reducing time of developement.\n",
        "\n",
        "    - Example :-\n",
        "\n",
        "     If my friend is designing an app for dosa ordering app through the wireframing she can decide,\n",
        "\n",
        "     - What will be the homescreen [Like about the logo, menu button, dosa image etc. ]  \n",
        "     - How the user will place the order [Like where will be the order now button ]\n",
        "     - How will be the payment screen look like [The layout of card, UPI etc.]\n"
      ],
      "metadata": {
        "id": "fVWrhNvSdNg2"
      }
    },
    {
      "cell_type": "markdown",
      "source": [
        "3. Explain the role of usability testing in improving user experience?\n",
        "    - Usability testing is a process in which the real user are asked to use any app, website or prototype to know what exact problem problem they are facing in using it, from this we'll get to know whether the design is user friendly or not.\n",
        "    -Through the problem of usability testing it helps the designer know if the user is facing any problem like not able to understand the steps or having any confusion regarding the design, so that team will solve that problem and make the user experience easy and smooth.\n",
        "    - The main motive of usablity testing is to make the product as simple, comfortable and effective as possible for the user to use.\n",
        "    -Example\n",
        "\n",
        "     - Lets say a company asked the designer to design a mobile app for ticket booking online for movie, While the process was going on the designer or the company asked 10 users to use it and bookn tickets for any movie.\n",
        "     - In the result 6 out of 10 users were not able to find the \"Book now\" button easily as the button is too small to find and user had to take effort to find it and then use it.\n",
        "     - After getting this feedback from the users the design team will work on making that button easily visible like big and on placing the button in such a place of that app where the user can easily access it, after this change user can complete their booking without facing any complications."
      ],
      "metadata": {
        "id": "za4FoAnYj1ut"
      }
    },
    {
      "cell_type": "markdown",
      "source": [
        "4. Discuss the importance of accessibility in UI/UX design?\n",
        "   - The meaning of accessibility in UI/UX design is the design should be accessible to all whether the user is disabled, old person or the user is using through someone else's device also. And the design will also be successful when every user can use it easily use it.\n",
        "\n",
        "   - Accesssibility is important in UI\\UX design because through accessibility the designer can provide same or equal experience to each and every user in spite of the user is blind, deaf or any kind of physically challenged person.\n",
        "\n",
        "   - Accessible design can be used by everyone as it is lot more easy to use so many users will use it, more the users more the success.\n",
        "\n",
        "   - Example - Youtube has caption system or subtitle in many language. The person who can't hear or who wants to understand the content in other language it will be easy for them to access."
      ],
      "metadata": {
        "id": "aqI1-QLbuszE"
      }
    },
    {
      "cell_type": "markdown",
      "source": [
        "5. What are the key principles of effective visual design in UI/UX?\n",
        "   - Hierarchy - According to the mindset and goal of the product some things or icons should be noticable at the first place important things should be on the front and a designer should highlight that button to accquire the attention of the user.\n",
        "      - Example - When we open Amazon app the \"buy now\" button looks big and in orange colour so that user put their attention on that and the other text looks small and situated in the button like see details.\n",
        "\n",
        "   - Contrast - There should be a generous amount of gap between the background and the text so that all the text will be easy visible.\n",
        "      - Example - In the whatsapp there are both white and green color which are contrast to each other because white is a light color and dark green is dark in color. They used them in such a manner so that we can easily see that.\n",
        "\n",
        "   - Alignment - All the elements should be on proper line so that it will look neat and clean to the user. Also alignment provides a professional and organised feel to the app or website.\n",
        "     \n",
        "     - Example - When we write bio in the instagram there we can notice the alignment on the list of name, profile photo, name buttons they all shows to us in our profile page in the leftside.\n",
        "\n",
        "  - Consisteny - There should be one type of buttons, colors and fonts all over app or website so that user will not be confused and feels familiar to use the product.\n",
        "  \n",
        "      - Example -  In the facebook there are blue color buttons all over the app, all the fonts are same on every page.\n",
        "\n",
        "  - White space - There should be an empty space between everything so that the screen wont look so clumsy and it give rest to the eyes of user and they can easily use the product.\n",
        "\n",
        "     - Example - In the website of apple there as always a white space between every product it looks clean and classy.\n",
        "\n",
        "  - Balance - All the element on the screen should be equally adjust whether it's left - right or top - bottom. So that app will look visually appealing.\n",
        "\n",
        "     - Example - In the youtube app on the left there is video thumbnail and on the right side there is title or details. This provides perfect balance.\n",
        "\n",
        "  - Typography - The size, style and spacing of the font should be in a way that cane be readable, Beacause bad fonts makes the user confuse and irritated at the same time.\n",
        "    \n",
        "    - Example - In the news app the headlines are always in large font and details are always in small fonts so that the user can read it easily.\n",
        "\n",
        "  "
      ],
      "metadata": {
        "id": "KMJ1-0ndzO-h"
      }
    },
    {
      "cell_type": "markdown",
      "source": [
        "6. How do personas influence the design decisions in UI/UX projects?\n",
        "     - Personas basically is a profile of an imaginary user in which there are datas of who the users, what the age of the users, profession, goals, problems and likes\\ dislikes. The main purpose of making a persona is for whom are we designer for, when this is clear we get to know about the needs, comfort, thinking, we can take design decision accordingly.\n",
        "\n",
        "  - It influences the decision of design by\n",
        "      - Choosing user focused features,\n",
        "      - By decideing right time, color and content.\n",
        "      - By taking problem sloving design decision.\n",
        "\n",
        "  - Example - Fitness app for working men.\n",
        "      - Persona :-\n",
        "          - Name - Rishu\n",
        "          - Age -  24 Govt job, health conscious.\n",
        "          - Slightly busy schedule, needs nprmal workout routines.\n",
        "          - Likes tracking calories and steps.\n",
        "\n",
        "      - Design decision :-\n",
        "          - Add 45 mins workout plans.\n",
        "          - Add step counter, daily water reminder.\n",
        "          - Design the app with vibrant colors and motivational message. This will keep Rishu motivated, engaged and fits into his lifestyle."
      ],
      "metadata": {
        "id": "BP76CaZa-ypz"
      }
    },
    {
      "cell_type": "markdown",
      "source": [],
      "metadata": {
        "id": "fmkeM9yizJIL"
      }
    }
  ]
}